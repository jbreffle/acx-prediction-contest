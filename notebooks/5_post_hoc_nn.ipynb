{
 "cells": [
  {
   "cell_type": "markdown",
   "metadata": {},
   "source": [
    "# Train a NN for prediction aggregation\n",
    "\n",
    "Follows same method as for xgbregressor in 4_post_hoc.ipynb: train a NN to predict participants' performance, then use the trained model to weigh test participants, then use that and the beta transformation to generate aggregate predcitions."
   ]
  },
  {
   "cell_type": "markdown",
   "metadata": {},
   "source": [
    "## Set up\n",
    "\n",
    "Set up the code"
   ]
  },
  {
   "cell_type": "code",
   "execution_count": 3,
   "metadata": {},
   "outputs": [
    {
     "name": "stdout",
     "output_type": "stream",
     "text": [
      "The autoreload extension is already loaded. To reload it, use:\n",
      "  %reload_ext autoreload\n"
     ]
    }
   ],
   "source": [
    "# Set up to use local modules\n",
    "%load_ext autoreload\n",
    "%autoreload 2\n",
    "import os\n",
    "import sys\n",
    "module_path = os.path.abspath(os.path.join('..')) # Add parent directory to path\n",
    "sys.path.insert(0, module_path)"
   ]
  },
  {
   "cell_type": "code",
   "execution_count": 4,
   "metadata": {},
   "outputs": [],
   "source": [
    "# Imports\n",
    "import matplotlib.pyplot as plt\n",
    "import numpy as np\n",
    "import pandas as pd\n",
    "\n",
    "# Imports for xgb\n",
    "from sklearn.model_selection import train_test_split\n",
    "import xgboost as xgb\n",
    "from sklearn.metrics import mean_squared_error\n",
    "\n",
    "# Imports for pytorch\n",
    "import torch\n",
    "import torch.nn as nn\n",
    "import torch.nn.functional as F\n",
    "import torch.optim as optim\n",
    "from torch.utils.data import TensorDataset\n",
    "from torch.utils.data import DataLoader\n",
    "from sklearn.preprocessing import StandardScaler\n",
    "\n",
    "# Local imports\n",
    "from src import process\n",
    "from src import plot\n",
    "from src import util\n",
    "\n",
    "data_path = process.DEFAULT_DATA_PATH"
   ]
  },
  {
   "cell_type": "code",
   "execution_count": 5,
   "metadata": {},
   "outputs": [],
   "source": [
    "# Load data\n",
    "blind_mode_df, estimates_df = process.load_and_process_results(\n",
    "    fix_bad_rows=True, remove_bad_rows=True\n",
    ")\n",
    "blind_mode_feature_df = process.get_feature_df(blind_mode_df)\n",
    "resolution_vector = process.get_target_df(df_format=False)\n",
    "estimates_matrix = process.get_estimates_matrix(blind_mode_df)\n",
    "brier_score = np.mean(np.square(estimates_matrix - resolution_vector), axis=1)\n",
    "# markets_df = process.get_current_probs()\n",
    "# blind_mode_df[\"brier_score\"] = brier_score"
   ]
  },
  {
   "cell_type": "markdown",
   "metadata": {},
   "source": [
    "## XGBoost Regression"
   ]
  },
  {
   "cell_type": "code",
   "execution_count": 6,
   "metadata": {},
   "outputs": [
    {
     "name": "stdout",
     "output_type": "stream",
     "text": [
      "xgboost test MSE: 0.0021330110037029197\n"
     ]
    }
   ],
   "source": [
    "# Create a new dataframe with the columns we want to use\n",
    "columns_to_use = blind_mode_feature_df.columns.tolist()\n",
    "blind_mode_df_xgboost = blind_mode_feature_df[columns_to_use]\n",
    "\n",
    "# Split into train and test sets\n",
    "X = blind_mode_df_xgboost.values\n",
    "y = brier_score\n",
    "X_train, X_test, y_train, y_test = train_test_split(\n",
    "    X, y, random_state=1337, test_size=0.2\n",
    ")\n",
    "\n",
    "# Create the xgboost model\n",
    "xgb_model = xgb.XGBRegressor(objective=\"reg:squarederror\", random_state=42)\n",
    "# Fit the model\n",
    "xgb_model.fit(X_train, y_train)\n",
    "# Make test predictions\n",
    "y_pred = xgb_model.predict(X_test)\n",
    "print(f\"xgboost test MSE: {mean_squared_error(y_test, y_pred)}\")"
   ]
  },
  {
   "cell_type": "markdown",
   "metadata": {},
   "source": [
    "## NN, based on similar approach to the XGBoost Regression"
   ]
  },
  {
   "cell_type": "code",
   "execution_count": 7,
   "metadata": {},
   "outputs": [],
   "source": [
    "# Create a new dataframe with the columns we want to use\n",
    "columns_to_use = blind_mode_feature_df.columns.tolist()\n",
    "blind_mode_df_pytorch = blind_mode_feature_df[columns_to_use]\n",
    "\n",
    "# Split into train and test sets\n",
    "X = blind_mode_df_pytorch.values\n",
    "y = brier_score\n",
    "\n",
    "# Convert nans to the mean\n",
    "X_column_means = np.nanmean(X, axis=0)\n",
    "X = np.nan_to_num(X, nan=X_column_means)\n",
    "\n",
    "# Perform feature normalization\n",
    "scaler = StandardScaler()\n",
    "X = scaler.fit_transform(X)\n",
    "\n",
    "X_train, X_test, y_train, y_test = train_test_split(\n",
    "    X, y, random_state=1337, test_size=0.2\n",
    ")\n",
    "\n",
    "# Convert to tensors\n",
    "X_train_tensor = torch.tensor(X_train, dtype=torch.float)\n",
    "y_train_tensor = torch.tensor(y_train, dtype=torch.float)\n",
    "X_test_tensor = torch.tensor(X_test, dtype=torch.float)\n",
    "y_test_tensor = torch.tensor(y_test, dtype=torch.float)\n",
    "\n",
    "# Create a dataset and dataloader\n",
    "batch_size = X_train.shape[0]\n",
    "train_dataset = TensorDataset(X_train_tensor, y_train_tensor)\n",
    "test_dataset = TensorDataset(X_test_tensor, y_test_tensor)\n",
    "train_dataloader = DataLoader(train_dataset, batch_size=batch_size, shuffle=True)\n",
    "test_dataloader = DataLoader(test_dataset, batch_size=batch_size, shuffle=True)"
   ]
  },
  {
   "cell_type": "code",
   "execution_count": 8,
   "metadata": {},
   "outputs": [],
   "source": [
    "# Model with Parameterized hidden layer sizes\n",
    "class Net(nn.Module):\n",
    "    def __init__(self, input_size, hidden_layer_sizes):\n",
    "        super().__init__()\n",
    "        self.fc1 = nn.Linear(input_size, hidden_layer_sizes[0])\n",
    "        self.fc2 = nn.Linear(hidden_layer_sizes[0], hidden_layer_sizes[1])\n",
    "        self.fc3 = nn.Linear(hidden_layer_sizes[1], hidden_layer_sizes[2])\n",
    "        self.fc4 = nn.Linear(hidden_layer_sizes[2], 1)\n",
    "\n",
    "    def forward(self, x):\n",
    "        x = F.relu(self.fc1(x))\n",
    "        x = F.dropout(x, 0.95)\n",
    "        x = F.relu(self.fc2(x))\n",
    "        x = F.dropout(x, 0.5)\n",
    "        x = F.relu(self.fc3(x))\n",
    "        x = self.fc4(x)\n",
    "        return x"
   ]
  },
  {
   "cell_type": "code",
   "execution_count": 9,
   "metadata": {},
   "outputs": [
    {
     "name": "stdout",
     "output_type": "stream",
     "text": [
      "Epoch 0 loss: 0.11559406667947769\n",
      "Epoch 100 loss: 0.011106632649898529\n",
      "Epoch 200 loss: 0.0026489130686968565\n",
      "Epoch 300 loss: 0.0022921073250472546\n",
      "Epoch 400 loss: 0.002296453807502985\n",
      "Epoch 500 loss: 0.00226096180267632\n",
      "PyTorch test MSE: 0.0021598566897827417\n"
     ]
    }
   ],
   "source": [
    "# Initialize and train the model\n",
    "\n",
    "# Set rng\n",
    "torch.manual_seed(1337)\n",
    "\n",
    "# Create the model\n",
    "input_size = X_train.shape[1]\n",
    "hidden_layer_sizes = [100, 50, 10]\n",
    "model = Net(input_size, hidden_layer_sizes)\n",
    "\n",
    "# Define the loss function and optimizer\n",
    "criterion = nn.MSELoss()\n",
    "optimizer = optim.Adam(model.parameters(), lr=0.001)\n",
    "\n",
    "# Train the model\n",
    "model.train()\n",
    "\n",
    "n_epochs = 600\n",
    "for epoch in range(n_epochs):\n",
    "    for i, (inputs, labels) in enumerate(train_dataloader):\n",
    "        # Zero the parameter gradients\n",
    "        optimizer.zero_grad()\n",
    "        # Forward pass\n",
    "        outputs = model(inputs)\n",
    "        loss = criterion(outputs, labels.unsqueeze(1))\n",
    "        # Backward pass\n",
    "        loss.backward()\n",
    "        optimizer.step()\n",
    "    if epoch % 100 == 0:\n",
    "        print(f\"Epoch {epoch} loss: {loss.item()}\")\n",
    "\n",
    "# Evaluate the model\n",
    "model.eval()\n",
    "\n",
    "# Make test predictions\n",
    "y_pred = []\n",
    "for inputs, labels in test_dataloader:\n",
    "    outputs = model(inputs)\n",
    "    y_pred.extend(outputs.detach().numpy().flatten())\n",
    "y_pred = np.array(y_pred)\n",
    "\n",
    "print(f\"PyTorch test MSE: {mean_squared_error(y_test, y_pred)}\")"
   ]
  },
  {
   "cell_type": "code",
   "execution_count": 10,
   "metadata": {},
   "outputs": [
    {
     "data": {
      "image/png": "[encoded data removed]",
      "text/plain": [
       "<Figure size 600x400 with 1 Axes>"
      ]
     },
     "metadata": {},
     "output_type": "display_data"
    }
   ],
   "source": [
    "# Plot predictions against actual values\n",
    "fig = plt.figure(figsize=(6, 4))\n",
    "ax = fig.add_subplot(111)\n",
    "ax.scatter(y_test, y_pred, s=5)\n",
    "ax.set_xlabel(\"Actual Brier Score\")\n",
    "ax.set_ylabel(\"Predicted Brier Score\")\n",
    "ax.set_title(\"Predicted vs Actual Brier Score\")\n",
    "ax.plot([0, 1], [0, 1], transform=ax.transAxes)\n",
    "plt.show()"
   ]
  }
 ],
 "metadata": {
  "kernelspec": {
   "display_name": "venv",
   "language": "python",
   "name": "python3"
  },
  "language_info": {
   "codemirror_mode": {
    "name": "ipython",
    "version": 3
   },
   "file_extension": ".py",
   "mimetype": "text/x-python",
   "name": "python",
   "nbconvert_exporter": "python",
   "pygments_lexer": "ipython3",
   "version": "3.11.7"
  }
 },
 "nbformat": 4,
 "nbformat_minor": 2
}
